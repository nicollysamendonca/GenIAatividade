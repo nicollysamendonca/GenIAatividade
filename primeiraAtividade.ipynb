{
  "nbformat": 4,
  "nbformat_minor": 0,
  "metadata": {
    "colab": {
      "provenance": [],
      "include_colab_link": true
    },
    "kernelspec": {
      "name": "python3",
      "display_name": "Python 3"
    },
    "language_info": {
      "name": "python"
    }
  },
  "cells": [
    {
      "cell_type": "markdown",
      "metadata": {
        "id": "view-in-github",
        "colab_type": "text"
      },
      "source": [
        "<a href=\"https://colab.research.google.com/github/nicollysamendonca/GenIAatividade/blob/main/primeiraAtividade.ipynb\" target=\"_parent\"><img src=\"https://colab.research.google.com/assets/colab-badge.svg\" alt=\"Open In Colab\"/></a>"
      ]
    },
    {
      "cell_type": "markdown",
      "source": [
        "# Tarefas para criar um RAG\n",
        "1. Carregar os dados\n",
        "2. Criar coluna para representar cada review\n",
        "3. Criar coluna com embeddings\n",
        "4. Criar função para buscar reviews relevantes a partir de uma query de busca\n",
        "5. Criar prompt para perguntar ao gpt\n",
        "6. Enviar prompt para o gpt e mostrar as respostas"
      ],
      "metadata": {
        "id": "VGF9agKxYzGr"
      }
    },
    {
      "cell_type": "markdown",
      "source": [
        "## 1. Carregar os dados"
      ],
      "metadata": {
        "id": "otEFOT_LZ504"
      }
    },
    {
      "cell_type": "code",
      "source": [
        "# fonte dos dados: https://github.com/germanojorge/SteamBR\n",
        "\n",
        "import pandas as pd\n",
        "\n",
        "df = pd.read_excel(\"/content/reviews_steam_portugues.xlsx\")"
      ],
      "metadata": {
        "id": "c5udS7ploE9o"
      },
      "execution_count": null,
      "outputs": []
    },
    {
      "cell_type": "markdown",
      "source": [
        "## 2. Criar coluna para representar cada review"
      ],
      "metadata": {
        "id": "PeRP11FdZ9Pv"
      }
    },
    {
      "cell_type": "code",
      "source": [
        "df[\"game\"] = df[\"game\"].astype(str)\n",
        "df[\"review\"] = df[\"review\"].astype(str)\n",
        "df[\"texto_para_promtp\"] = df[\"game\"] + \" recebeu a seguinte review: \" + df[\"review\"]"
      ],
      "metadata": {
        "id": "0RTwejg8oHj0"
      },
      "execution_count": null,
      "outputs": []
    },
    {
      "cell_type": "markdown",
      "source": [
        "## 3. Criar coluna com embeddings\n",
        "![0 Cgod6JuBcJyd9GVM.png](data:image/png;base64,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)\n",
        "\n",
        "fonte: https://medium.com/turing-talks/word-embedding-fazendo-o-computador-entender-o-significado-das-palavras-92fe22745057"
      ],
      "metadata": {
        "id": "MaiD7aH_aCD4"
      }
    },
    {
      "cell_type": "code",
      "source": [
        "!pip install python-dotenv"
      ],
      "metadata": {
        "colab": {
          "base_uri": "https://localhost:8080/"
        },
        "id": "sRusG33-q7iL",
        "outputId": "bb826667-6456-43bc-c357-6089ce12461b"
      },
      "execution_count": null,
      "outputs": [
        {
          "output_type": "stream",
          "name": "stdout",
          "text": [
            "Collecting python-dotenv\n",
            "  Downloading python_dotenv-1.0.0-py3-none-any.whl (19 kB)\n",
            "Installing collected packages: python-dotenv\n",
            "Successfully installed python-dotenv-1.0.0\n"
          ]
        }
      ]
    },
    {
      "cell_type": "code",
      "source": [
        "!pip install openai"
      ],
      "metadata": {
        "colab": {
          "base_uri": "https://localhost:8080/"
        },
        "id": "kS99XMAZ2sYo",
        "outputId": "8e0c4de2-1a86-46cc-b505-7873b3e40e8f"
      },
      "execution_count": null,
      "outputs": [
        {
          "output_type": "stream",
          "name": "stdout",
          "text": [
            "Collecting openai\n",
            "  Using cached openai-0.28.1-py3-none-any.whl (76 kB)\n",
            "Requirement already satisfied: requests>=2.20 in /usr/local/lib/python3.10/dist-packages (from openai) (2.31.0)\n",
            "Requirement already satisfied: tqdm in /usr/local/lib/python3.10/dist-packages (from openai) (4.66.1)\n",
            "Requirement already satisfied: aiohttp in /usr/local/lib/python3.10/dist-packages (from openai) (3.8.6)\n",
            "Requirement already satisfied: charset-normalizer<4,>=2 in /usr/local/lib/python3.10/dist-packages (from requests>=2.20->openai) (3.3.0)\n",
            "Requirement already satisfied: idna<4,>=2.5 in /usr/local/lib/python3.10/dist-packages (from requests>=2.20->openai) (3.4)\n",
            "Requirement already satisfied: urllib3<3,>=1.21.1 in /usr/local/lib/python3.10/dist-packages (from requests>=2.20->openai) (2.0.7)\n",
            "Requirement already satisfied: certifi>=2017.4.17 in /usr/local/lib/python3.10/dist-packages (from requests>=2.20->openai) (2023.7.22)\n",
            "Requirement already satisfied: attrs>=17.3.0 in /usr/local/lib/python3.10/dist-packages (from aiohttp->openai) (23.1.0)\n",
            "Requirement already satisfied: multidict<7.0,>=4.5 in /usr/local/lib/python3.10/dist-packages (from aiohttp->openai) (6.0.4)\n",
            "Requirement already satisfied: async-timeout<5.0,>=4.0.0a3 in /usr/local/lib/python3.10/dist-packages (from aiohttp->openai) (4.0.3)\n",
            "Requirement already satisfied: yarl<2.0,>=1.0 in /usr/local/lib/python3.10/dist-packages (from aiohttp->openai) (1.9.2)\n",
            "Requirement already satisfied: frozenlist>=1.1.1 in /usr/local/lib/python3.10/dist-packages (from aiohttp->openai) (1.4.0)\n",
            "Requirement already satisfied: aiosignal>=1.1.2 in /usr/local/lib/python3.10/dist-packages (from aiohttp->openai) (1.3.1)\n",
            "Installing collected packages: openai\n",
            "\u001b[31mERROR: pip's dependency resolver does not currently take into account all the packages that are installed. This behaviour is the source of the following dependency conflicts.\n",
            "llmx 0.0.15a0 requires cohere, which is not installed.\n",
            "llmx 0.0.15a0 requires tiktoken, which is not installed.\u001b[0m\u001b[31m\n",
            "\u001b[0mSuccessfully installed openai-0.28.1\n"
          ]
        }
      ]
    },
    {
      "cell_type": "code",
      "source": [
        "import os\n",
        "from dotenv import load_dotenv, find_dotenv\n",
        "\n",
        "_ = load_dotenv(find_dotenv())\n",
        "\n",
        "os.environ[\"OPENAI_API_KEY\"]\n",
        "os.environ['OPENAI_API_BASE']"
      ],
      "metadata": {
        "colab": {
          "base_uri": "https://localhost:8080/",
          "height": 35
        },
        "id": "qnLNaINOqwrq",
        "outputId": "c0053a02-7298-4957-e067-f9d82a4f57b4"
      },
      "execution_count": null,
      "outputs": [
        {
          "output_type": "execute_result",
          "data": {
            "text/plain": [
              "'https://openai-portodigital.openai.azure.com/'"
            ],
            "application/vnd.google.colaboratory.intrinsic+json": {
              "type": "string"
            }
          },
          "metadata": {},
          "execution_count": 6
        }
      ]
    },
    {
      "cell_type": "code",
      "source": [
        "import openai\n",
        "\n",
        "openai.api_type = \"azure\"\n",
        "openai.api_key  = os.environ['OPENAI_API_KEY']\n",
        "openai.api_base = os.environ['OPENAI_API_BASE']\n",
        "openai.api_version = \"2023-05-15\"\n",
        "\n",
        "response = openai.Embedding.create(\n",
        "    input=\"OI BRASIL\",\n",
        "    engine=\"text-similarity-ada-001\"\n",
        ")"
      ],
      "metadata": {
        "id": "jSAkx20Crx0n"
      },
      "execution_count": null,
      "outputs": []
    },
    {
      "cell_type": "code",
      "source": [
        "embeddings = response['data'][0]['embedding']\n",
        "embeddings"
      ],
      "metadata": {
        "id": "DznJttMJstMs"
      },
      "execution_count": null,
      "outputs": []
    },
    {
      "cell_type": "markdown",
      "source": [
        "## 4. Criar função para buscar reviews relevantes a partir de uma query de busca"
      ],
      "metadata": {
        "id": "04JK-6TNaEgv"
      }
    },
    {
      "cell_type": "code",
      "source": [
        "import openai\n",
        "import time\n",
        "\n",
        "def text_embedding(text):\n",
        "    \"\"\"\n",
        "    Recebe string, faz chamada ao modelo de embeddings da openai e retorna os embeddings da string\n",
        "    \"\"\"\n",
        "    response = None\n",
        "    retry_count = 0\n",
        "\n",
        "    while response is None:\n",
        "        try:\n",
        "            response = openai.Embedding.create(engine=\"text-similarity-ada-001\", input=text)\n",
        "        except Exception as e:\n",
        "            # Verifique se o erro é devido ao limite de chamadas\n",
        "            if \"call rate limit\" in str(e):\n",
        "                # Espere por um tempo exponencialmente crescente antes de tentar novamente\n",
        "                time.sleep(2 ** retry_count)\n",
        "                retry_count += 1\n",
        "                continue\n",
        "            else:\n",
        "                # Se ocorrer outro tipo de erro, lide com ele de acordo com sua lógica de tratamento de erros\n",
        "                print(\"Erro ao fazer chamada para a API: \", str(e))\n",
        "                return None\n",
        "\n",
        "    return response[\"data\"][0][\"embedding\"]"
      ],
      "metadata": {
        "id": "s89g9YYtta1S"
      },
      "execution_count": null,
      "outputs": []
    },
    {
      "cell_type": "code",
      "source": [
        "# Cria sample das linhas para fazer menos chamadas ao modelo\n",
        "df_menor = df.sample(1000)"
      ],
      "metadata": {
        "id": "zkrIrpgsuPTO"
      },
      "execution_count": null,
      "outputs": []
    },
    {
      "cell_type": "code",
      "source": [
        "df_menor.shape"
      ],
      "metadata": {
        "colab": {
          "base_uri": "https://localhost:8080/"
        },
        "id": "j3zSzEUXugM1",
        "outputId": "0398bde0-4aaa-4f4b-a319-5b1e4240b0cd"
      },
      "execution_count": null,
      "outputs": [
        {
          "output_type": "execute_result",
          "data": {
            "text/plain": [
              "(1000, 20)"
            ]
          },
          "metadata": {},
          "execution_count": 12
        }
      ]
    },
    {
      "cell_type": "code",
      "source": [
        "# criar coluna com os embeddings\n",
        "df_menor[\"embeddings\"] = df_menor[\"texto_para_promtp\"].apply(lambda linha: text_embedding(linha))"
      ],
      "metadata": {
        "id": "dyeDpgE5tyQ5",
        "colab": {
          "base_uri": "https://localhost:8080/"
        },
        "outputId": "afc31758-8690-4ff9-de5e-93fce6da0bed"
      },
      "execution_count": null,
      "outputs": [
        {
          "output_type": "stream",
          "name": "stdout",
          "text": [
            "Erro ao fazer chamada para a API:  This model's maximum context length is 2046 tokens, however you requested 2490 tokens (2490 in your prompt; 0 for the completion). Please reduce your prompt; or completion length.\n",
            "Erro ao fazer chamada para a API:  This model's maximum context length is 2046 tokens, however you requested 2415 tokens (2415 in your prompt; 0 for the completion). Please reduce your prompt; or completion length.\n",
            "Erro ao fazer chamada para a API:  This model's maximum context length is 2046 tokens, however you requested 2792 tokens (2792 in your prompt; 0 for the completion). Please reduce your prompt; or completion length.\n",
            "Erro ao fazer chamada para a API:  This model's maximum context length is 2046 tokens, however you requested 2071 tokens (2071 in your prompt; 0 for the completion). Please reduce your prompt; or completion length.\n",
            "Erro ao fazer chamada para a API:  This model's maximum context length is 2046 tokens, however you requested 2421 tokens (2421 in your prompt; 0 for the completion). Please reduce your prompt; or completion length.\n"
          ]
        }
      ]
    },
    {
      "cell_type": "code",
      "source": [
        "df_menor = df_menor.dropna(subset=\"embeddings\", axis=0)"
      ],
      "metadata": {
        "id": "7dwrIT3FJdQW"
      },
      "execution_count": null,
      "outputs": []
    },
    {
      "cell_type": "code",
      "source": [
        "from scipy import spatial\n",
        "\n",
        "def strings_ranked_by_relatedness(\n",
        "    query: str,\n",
        "    df: pd.DataFrame,\n",
        "    relatedness_fn=lambda x, y: 1 - spatial.distance.cosine(x, y),\n",
        "    top_n: int = 10\n",
        ") -> tuple[list[str], list[float]]:\n",
        "    \"\"\"\n",
        "    Retorna as linhas do dataframe mais semelhantes a string de busca\n",
        "    \"\"\"\n",
        "\n",
        "    query_embedding = text_embedding(query)\n",
        "\n",
        "    strings_and_relatednesses = [ ]\n",
        "    for i, row in df.iterrows():\n",
        "\n",
        "        #relatedness = relatedness_fn(np.array(query_embedding).flatten(), np.array(row[\"embedding\"]).flatten())\n",
        "        relatedness = relatedness_fn(query_embedding, row[\"embeddings\"])\n",
        "        item = (row[\"texto_para_promtp\"], relatedness)\n",
        "        strings_and_relatednesses.append(item)\n",
        "\n",
        "    strings_and_relatednesses.sort(key=lambda x: x[1], reverse=True)\n",
        "    strings, relatednesses = zip(*strings_and_relatednesses)\n",
        "    return strings[:top_n], relatednesses[:top_n]"
      ],
      "metadata": {
        "id": "PPrAzlQiuuKm"
      },
      "execution_count": null,
      "outputs": []
    },
    {
      "cell_type": "code",
      "source": [
        "strings, relatednesses = strings_ranked_by_relatedness(\"Existe algum jogo nas reviews onde o usuário falou de um jogo de corrida com muita ação?\",\n",
        "                              df_menor)\n",
        "for string, relatedness in zip(strings, relatednesses):\n",
        "    print(f\"{relatedness=:.3f}\")\n",
        "    display(string)"
      ],
      "metadata": {
        "colab": {
          "base_uri": "https://localhost:8080/",
          "height": 465
        },
        "id": "TCVJsvzCL3XP",
        "outputId": "ab22a93c-5c34-4358-d746-c21ae7d07584"
      },
      "execution_count": null,
      "outputs": [
        {
          "output_type": "stream",
          "name": "stdout",
          "text": [
            "relatedness=0.896\n"
          ]
        },
        {
          "output_type": "display_data",
          "data": {
            "text/plain": [
              "'Racing_TrackManiacanyon recebeu a seguinte review: Um jogo um tanto quanto diferente, se vc está cansado de jogos de corrida comuns talvez esse seja um titulo interessante para se jogar.'"
            ],
            "application/vnd.google.colaboratory.intrinsic+json": {
              "type": "string"
            }
          },
          "metadata": {}
        },
        {
          "output_type": "stream",
          "name": "stdout",
          "text": [
            "relatedness=0.893\n"
          ]
        },
        {
          "output_type": "display_data",
          "data": {
            "text/plain": [
              "'Indie_QuestofDungeons recebeu a seguinte review: Este é aquele tipo de jogo com uma mecânica simples mas que faz você se divertir por horas.'"
            ],
            "application/vnd.google.colaboratory.intrinsic+json": {
              "type": "string"
            }
          },
          "metadata": {}
        },
        {
          "output_type": "stream",
          "name": "stdout",
          "text": [
            "relatedness=0.891\n"
          ]
        },
        {
          "output_type": "display_data",
          "data": {
            "text/plain": [
              "'Adventure_TombRumble recebeu a seguinte review: Um jogo bem divertido e bem desafiador para conseguir completar 1 mapa com vários jogadores diversos'"
            ],
            "application/vnd.google.colaboratory.intrinsic+json": {
              "type": "string"
            }
          },
          "metadata": {}
        },
        {
          "output_type": "stream",
          "name": "stdout",
          "text": [
            "relatedness=0.891\n"
          ]
        },
        {
          "output_type": "display_data",
          "data": {
            "text/plain": [
              "'Adventure_Republique recebeu a seguinte review: Um jogo para refletir.'"
            ],
            "application/vnd.google.colaboratory.intrinsic+json": {
              "type": "string"
            }
          },
          "metadata": {}
        },
        {
          "output_type": "stream",
          "name": "stdout",
          "text": [
            "relatedness=0.886\n"
          ]
        },
        {
          "output_type": "display_data",
          "data": {
            "text/plain": [
              "'FPS_Screencheat recebeu a seguinte review: Jogo casual e divertido pra jogar com os amigos'"
            ],
            "application/vnd.google.colaboratory.intrinsic+json": {
              "type": "string"
            }
          },
          "metadata": {}
        },
        {
          "output_type": "stream",
          "name": "stdout",
          "text": [
            "relatedness=0.886\n"
          ]
        },
        {
          "output_type": "display_data",
          "data": {
            "text/plain": [
              "'Action_ThunderTierOne recebeu a seguinte review: Um  jogo que procura simular a movimentação coordenada da equipe visando realizar as missões pré-determinadas sob uma perspectiva bem divertida'"
            ],
            "application/vnd.google.colaboratory.intrinsic+json": {
              "type": "string"
            }
          },
          "metadata": {}
        },
        {
          "output_type": "stream",
          "name": "stdout",
          "text": [
            "relatedness=0.885\n"
          ]
        },
        {
          "output_type": "display_data",
          "data": {
            "text/plain": [
              "'Simulation_DEEEERSimulator recebeu a seguinte review: Jogo de corno brabissimo'"
            ],
            "application/vnd.google.colaboratory.intrinsic+json": {
              "type": "string"
            }
          },
          "metadata": {}
        },
        {
          "output_type": "stream",
          "name": "stdout",
          "text": [
            "relatedness=0.885\n"
          ]
        },
        {
          "output_type": "display_data",
          "data": {
            "text/plain": [
              "'Racing_AssetoCorsa recebeu a seguinte review: Bom jogo/simulador!'"
            ],
            "application/vnd.google.colaboratory.intrinsic+json": {
              "type": "string"
            }
          },
          "metadata": {}
        },
        {
          "output_type": "stream",
          "name": "stdout",
          "text": [
            "relatedness=0.885\n"
          ]
        },
        {
          "output_type": "display_data",
          "data": {
            "text/plain": [
              "'FPS_RAGE recebeu a seguinte review: Um dos melhores jogos pós apocalíptico que já joguei, Tem lá seus defeitos como qualquer outro jogo mas o conteúdo disso aqui é simplesmente deleitoso.'"
            ],
            "application/vnd.google.colaboratory.intrinsic+json": {
              "type": "string"
            }
          },
          "metadata": {}
        },
        {
          "output_type": "stream",
          "name": "stdout",
          "text": [
            "relatedness=0.884\n"
          ]
        },
        {
          "output_type": "display_data",
          "data": {
            "text/plain": [
              "'Action_Overstep recebeu a seguinte review: Isso sim Que é um jogo de parkour.'"
            ],
            "application/vnd.google.colaboratory.intrinsic+json": {
              "type": "string"
            }
          },
          "metadata": {}
        }
      ]
    },
    {
      "cell_type": "markdown",
      "source": [
        "## 5. Criar prompt para perguntar ao gpt\n",
        "* O modelo possui um limite de tokens, vamos verificar se o limite foi atingido ou não para criar o prompt"
      ],
      "metadata": {
        "id": "u-owCuD3aJYP"
      }
    },
    {
      "cell_type": "code",
      "source": [
        "!pip install tiktoken"
      ],
      "metadata": {
        "colab": {
          "base_uri": "https://localhost:8080/"
        },
        "id": "z05dvBXq3sF1",
        "outputId": "3b4f7cab-df08-47a5-cd0f-5438f0a08936"
      },
      "execution_count": null,
      "outputs": [
        {
          "output_type": "stream",
          "name": "stdout",
          "text": [
            "Collecting tiktoken\n",
            "  Downloading tiktoken-0.5.1-cp310-cp310-manylinux_2_17_x86_64.manylinux2014_x86_64.whl (2.0 MB)\n",
            "\u001b[2K     \u001b[90m━━━━━━━━━━━━━━━━━━━━━━━━━━━━━━━━━━━━━━━━\u001b[0m \u001b[32m2.0/2.0 MB\u001b[0m \u001b[31m19.2 MB/s\u001b[0m eta \u001b[36m0:00:00\u001b[0m\n",
            "\u001b[?25hRequirement already satisfied: regex>=2022.1.18 in /usr/local/lib/python3.10/dist-packages (from tiktoken) (2023.6.3)\n",
            "Requirement already satisfied: requests>=2.26.0 in /usr/local/lib/python3.10/dist-packages (from tiktoken) (2.31.0)\n",
            "Requirement already satisfied: charset-normalizer<4,>=2 in /usr/local/lib/python3.10/dist-packages (from requests>=2.26.0->tiktoken) (3.3.0)\n",
            "Requirement already satisfied: idna<4,>=2.5 in /usr/local/lib/python3.10/dist-packages (from requests>=2.26.0->tiktoken) (3.4)\n",
            "Requirement already satisfied: urllib3<3,>=1.21.1 in /usr/local/lib/python3.10/dist-packages (from requests>=2.26.0->tiktoken) (2.0.7)\n",
            "Requirement already satisfied: certifi>=2017.4.17 in /usr/local/lib/python3.10/dist-packages (from requests>=2.26.0->tiktoken) (2023.7.22)\n",
            "Installing collected packages: tiktoken\n",
            "\u001b[31mERROR: pip's dependency resolver does not currently take into account all the packages that are installed. This behaviour is the source of the following dependency conflicts.\n",
            "llmx 0.0.15a0 requires cohere, which is not installed.\u001b[0m\u001b[31m\n",
            "\u001b[0mSuccessfully installed tiktoken-0.5.1\n"
          ]
        }
      ]
    },
    {
      "cell_type": "code",
      "source": [
        "import tiktoken\n",
        "\n",
        "def num_tokens(text: str) -> int:\n",
        "    encoding = tiktoken.encoding_for_model(\"gpt-3.5-turbo-16k\")\n",
        "    return len(encoding.encode(text))"
      ],
      "metadata": {
        "id": "NbxCneS43d_t"
      },
      "execution_count": null,
      "outputs": []
    },
    {
      "cell_type": "code",
      "source": [
        "num_tokens(\"oi brasil\")"
      ],
      "metadata": {
        "colab": {
          "base_uri": "https://localhost:8080/"
        },
        "id": "NRjllXVAJCtj",
        "outputId": "8c71afcf-8ca3-49e2-b3fa-51ae63a94c9a"
      },
      "execution_count": null,
      "outputs": [
        {
          "output_type": "execute_result",
          "data": {
            "text/plain": [
              "3"
            ]
          },
          "metadata": {},
          "execution_count": 41
        }
      ]
    },
    {
      "cell_type": "code",
      "source": [
        "num_tokens(\"Existe algum jogo nas reviews onde o usuário falou de um jogo de corrida com muita ação?\")"
      ],
      "metadata": {
        "colab": {
          "base_uri": "https://localhost:8080/"
        },
        "id": "GQ5YZyphJFhT",
        "outputId": "931ff2dd-74f1-47bb-a4fd-53407ed82e08"
      },
      "execution_count": null,
      "outputs": [
        {
          "output_type": "execute_result",
          "data": {
            "text/plain": [
              "23"
            ]
          },
          "metadata": {},
          "execution_count": 42
        }
      ]
    },
    {
      "cell_type": "code",
      "source": [
        "def montar_query(query: str, df: pd.DataFrame, token_budget: int) -> str:\n",
        "    linhas, relatednesses = strings_ranked_by_relatedness(query, df)\n",
        "    introducao = \"\"\"\n",
        "    Use o conteúdo abaixo com reviews de jogos para responder a pergunta a seguir.\n",
        "    O conteúdo das reviews deve ser a sua única fonte para dar as respostas.\n",
        "    Se você não conseguir encontrar a resposta no conteúdo, escreva \"Não consegui encontrar uma resposta.\"\n",
        "    \"\"\"\n",
        "    pergunta = f\"\\n\\Pergunta: {query}\"\n",
        "    messagem = introducao\n",
        "    for linha in linhas:\n",
        "        proxima_linha = f'\\n\\nSeção com dados das reviews de jogos:\\n\"\"\"\\n{linha}\\n\"\"\"'\n",
        "        if num_tokens(messagem + proxima_linha + pergunta) > token_budget:\n",
        "            break\n",
        "        else:\n",
        "            messagem = messagem + proxima_linha\n",
        "\n",
        "    return messagem + pergunta\n"
      ],
      "metadata": {
        "id": "MGAZFJZZyL1h"
      },
      "execution_count": null,
      "outputs": []
    },
    {
      "cell_type": "code",
      "source": [
        "from pprint import pprint\n",
        "\n",
        "prompt = montar_query(query=\"Existe algum jogo nas reviews onde o usuário falou de um jogo de corrida com muita ação?\",\n",
        "             df=df_menor,\n",
        "             token_budget=16000)\n",
        "pprint(prompt)"
      ],
      "metadata": {
        "colab": {
          "base_uri": "https://localhost:8080/"
        },
        "id": "enxCIoWp4Gco",
        "outputId": "d9dd0862-b638-4ee6-dd76-d85391e821b3"
      },
      "execution_count": null,
      "outputs": [
        {
          "output_type": "stream",
          "name": "stdout",
          "text": [
            "('\\n'\n",
            " '    Use o conteúdo abaixo com reviews de jogos para responder a pergunta a '\n",
            " 'seguir. \\n'\n",
            " '    O conteúdo das reviews deve ser a sua única fonte para dar as '\n",
            " 'respostas. \\n'\n",
            " '    Se você não conseguir encontrar a resposta no conteúdo, escreva \"Não '\n",
            " 'consegui encontrar uma resposta.\"\\n'\n",
            " '    \\n'\n",
            " '\\n'\n",
            " 'Seção com dados das reviews de jogos:\\n'\n",
            " '\"\"\"\\n'\n",
            " 'Racing_TrackManiacanyon recebeu a seguinte review: Um jogo um tanto quanto '\n",
            " 'diferente, se vc está cansado de jogos de corrida comuns talvez esse seja um '\n",
            " 'titulo interessante para se jogar.\\n'\n",
            " '\"\"\"\\n'\n",
            " '\\n'\n",
            " 'Seção com dados das reviews de jogos:\\n'\n",
            " '\"\"\"\\n'\n",
            " 'Indie_QuestofDungeons recebeu a seguinte review: Este é aquele tipo de jogo '\n",
            " 'com uma mecânica simples mas que faz você se divertir por horas.\\n'\n",
            " '\"\"\"\\n'\n",
            " '\\n'\n",
            " 'Seção com dados das reviews de jogos:\\n'\n",
            " '\"\"\"\\n'\n",
            " 'Adventure_TombRumble recebeu a seguinte review: Um jogo bem divertido e bem '\n",
            " 'desafiador para conseguir completar 1 mapa com vários jogadores diversos\\n'\n",
            " '\"\"\"\\n'\n",
            " '\\n'\n",
            " 'Seção com dados das reviews de jogos:\\n'\n",
            " '\"\"\"\\n'\n",
            " 'Adventure_Republique recebeu a seguinte review: Um jogo para refletir.\\n'\n",
            " '\"\"\"\\n'\n",
            " '\\n'\n",
            " 'Seção com dados das reviews de jogos:\\n'\n",
            " '\"\"\"\\n'\n",
            " 'FPS_Screencheat recebeu a seguinte review: Jogo casual e divertido pra jogar '\n",
            " 'com os amigos\\n'\n",
            " '\"\"\"\\n'\n",
            " '\\n'\n",
            " 'Seção com dados das reviews de jogos:\\n'\n",
            " '\"\"\"\\n'\n",
            " 'Action_ThunderTierOne recebeu a seguinte review: Um  jogo que procura '\n",
            " 'simular a movimentação coordenada da equipe visando realizar as missões '\n",
            " 'pré-determinadas sob uma perspectiva bem divertida\\n'\n",
            " '\"\"\"\\n'\n",
            " '\\n'\n",
            " 'Seção com dados das reviews de jogos:\\n'\n",
            " '\"\"\"\\n'\n",
            " 'Simulation_DEEEERSimulator recebeu a seguinte review: Jogo de corno '\n",
            " 'brabissimo\\n'\n",
            " '\"\"\"\\n'\n",
            " '\\n'\n",
            " 'Seção com dados das reviews de jogos:\\n'\n",
            " '\"\"\"\\n'\n",
            " 'Racing_AssetoCorsa recebeu a seguinte review: Bom jogo/simulador!\\n'\n",
            " '\"\"\"\\n'\n",
            " '\\n'\n",
            " 'Seção com dados das reviews de jogos:\\n'\n",
            " '\"\"\"\\n'\n",
            " 'FPS_RAGE recebeu a seguinte review: Um dos melhores jogos pós apocalíptico '\n",
            " 'que já joguei, Tem lá seus defeitos como qualquer outro jogo mas o conteúdo '\n",
            " 'disso aqui é simplesmente deleitoso.\\n'\n",
            " '\"\"\"\\n'\n",
            " '\\n'\n",
            " 'Seção com dados das reviews de jogos:\\n'\n",
            " '\"\"\"\\n'\n",
            " 'Action_Overstep recebeu a seguinte review: Isso sim Que é um jogo de '\n",
            " 'parkour.\\n'\n",
            " '\"\"\"\\n'\n",
            " '\\\\Pergunta: Existe algum jogo nas reviews onde o usuário falou de um jogo de '\n",
            " 'corrida com muita ação?')\n"
          ]
        }
      ]
    },
    {
      "cell_type": "markdown",
      "source": [
        "## 6. Enviar prompt para o gpt e mostrar as respostas"
      ],
      "metadata": {
        "id": "OSBk-159aNnJ"
      }
    },
    {
      "cell_type": "code",
      "source": [
        "def perguntar(\n",
        "    query: str,\n",
        "    df: pd.DataFrame = df,\n",
        "    model: str = \"gpt-35-turbo-16k\",\n",
        "    print_message: bool = False,\n",
        ") -> str:\n",
        "    message = montar_query(query, df, token_budget=16000)\n",
        "    if print_message:\n",
        "        print(message)\n",
        "    messages = [\n",
        "        {\"role\": \"system\", \"content\": \"Você responde perguntas sobre reviews de jogos.\"},\n",
        "        {\"role\": \"user\", \"content\": message},\n",
        "    ]\n",
        "    response = openai.ChatCompletion.create(\n",
        "        model=model,\n",
        "        messages=messages,\n",
        "        temperature=0,\n",
        "        engine=\"gpt-35-turbo-16k\"\n",
        "    )\n",
        "    response_message = response[\"choices\"][0][\"message\"][\"content\"]\n",
        "    return response_message"
      ],
      "metadata": {
        "id": "QTnBOLk24ZQC"
      },
      "execution_count": null,
      "outputs": []
    },
    {
      "cell_type": "code",
      "source": [
        "resposta = perguntar(\"Existe algum jogo nas reviews onde o usuário falou que o jogo era de tiro e divertido?\",\n",
        "    df_menor)\n",
        "print(resposta)"
      ],
      "metadata": {
        "id": "W20nnUytpcA5",
        "colab": {
          "base_uri": "https://localhost:8080/"
        },
        "outputId": "c31779ef-05b2-4073-a91a-b30de7294931"
      },
      "execution_count": null,
      "outputs": [
        {
          "output_type": "stream",
          "name": "stdout",
          "text": [
            "Sim, o jogo FPS_Screencheat recebeu a seguinte review: \"Jogo casual e divertido pra jogar com os amigos\".\n"
          ]
        }
      ]
    },
    {
      "cell_type": "code",
      "source": [
        "montar_query(query=\"Existe algum jogo nas reviews onde o usuário falou que o jogo era de tiro e divertido?\",\n",
        "             df=df_menor,\n",
        "             token_budget=16000)"
      ],
      "metadata": {
        "colab": {
          "base_uri": "https://localhost:8080/",
          "height": 178
        },
        "id": "PA2Id75yQIRL",
        "outputId": "cf349e28-f793-41bd-b097-ef791f2a87cf"
      },
      "execution_count": null,
      "outputs": [
        {
          "output_type": "execute_result",
          "data": {
            "text/plain": [
              "'\\n    Use o conteúdo abaixo com reviews de jogos para responder a pergunta a seguir. \\n    O conteúdo das reviews deve ser a sua única fonte para dar as respostas. \\n    Se você não conseguir encontrar a resposta no conteúdo, escreva \"Não consegui encontrar uma resposta.\"\\n    \\n\\nSeção com dados das reviews de jogos:\\n\"\"\"\\nIndie_QuestofDungeons recebeu a seguinte review: Este é aquele tipo de jogo com uma mecânica simples mas que faz você se divertir por horas.\\n\"\"\"\\n\\nSeção com dados das reviews de jogos:\\n\"\"\"\\nFPS_Screencheat recebeu a seguinte review: Jogo casual e divertido pra jogar com os amigos\\n\"\"\"\\n\\nSeção com dados das reviews de jogos:\\n\"\"\"\\nAdventure_ThereIsNoGame recebeu a seguinte review: Jogo divertidíssimo!\\n\\nA ideia de fazer um \"jogo sobre ser um jogo\" não é original, mas \"There is no Game\" tem um humor tão perfeito que faz dele um destaque dentro desse gênero.\\n\\nE como todos jogos desse tipo, quanto menos você souber sobre ele, melhor!\\n\"\"\"\\n\\nSeção com dados das reviews de jogos:\\n\"\"\"\\nIndie_ToyTinkerSimulator recebeu a seguinte review: Um jogo divertido e relaxante pra quem gosta de montar e desmontar coisas\\n\"\"\"\\n\\nSeção com dados das reviews de jogos:\\n\"\"\"\\nIndie_WizardSlime recebeu a seguinte review: Um jogo simples, mas bem divertido; Quem procura algo desafiador acabou de achar.\\n\"\"\"\\n\\nSeção com dados das reviews de jogos:\\n\"\"\"\\nAdventure_TombRumble recebeu a seguinte review: Um jogo bem divertido e bem desafiador para conseguir completar 1 mapa com vários jogadores diversos\\n\"\"\"\\n\\nSeção com dados das reviews de jogos:\\n\"\"\"\\nFPS_RAGE recebeu a seguinte review: Um dos melhores jogos pós apocalíptico que já joguei, Tem lá seus defeitos como qualquer outro jogo mas o conteúdo disso aqui é simplesmente deleitoso.\\n\"\"\"\\n\\nSeção com dados das reviews de jogos:\\n\"\"\"\\nIndie_RunPropRun recebeu a seguinte review: Jogo de esconde-esconde bem divertido e dinâmico, bom para jogar com amigos já que tem seu próprio sistema de áudio.\\n\"\"\"\\n\\nSeção com dados das reviews de jogos:\\n\"\"\"\\nAdventure_Republique recebeu a seguinte review: Um jogo para refletir.\\n\"\"\"\\n\\nSeção com dados das reviews de jogos:\\n\"\"\"\\nIndie_Incandescent recebeu a seguinte review: um jogo simples e divertido para pegar as conquistas\\n\"\"\"\\n\\\\Pergunta: Existe algum jogo nas reviews onde o usuário falou que o jogo era de tiro e divertido?'"
            ],
            "application/vnd.google.colaboratory.intrinsic+json": {
              "type": "string"
            }
          },
          "metadata": {},
          "execution_count": 49
        }
      ]
    },
    {
      "cell_type": "code",
      "source": [
        "resposta = perguntar(\"Existe algum jogo nas reviews de estratégia de sobrevivência?\",\n",
        "    df_menor)\n",
        "print(resposta)"
      ],
      "metadata": {
        "colab": {
          "base_uri": "https://localhost:8080/"
        },
        "id": "WTNOCW2EQswX",
        "outputId": "2bafbe4d-a395-4464-c985-4e9de4f887b0"
      },
      "execution_count": null,
      "outputs": [
        {
          "output_type": "stream",
          "name": "stdout",
          "text": [
            "Sim, o jogo \"SurvivingtheAftermath\" recebeu uma review na seção de reviews de jogos de estratégia de sobrevivência.\n"
          ]
        }
      ]
    },
    {
      "cell_type": "code",
      "source": [
        "resposta = perguntar(\"Existe algum jogo nas reviews parecido com o jogo prince of persia? prince of persia é um jogo de aventura em terceira pessoa onde o personagem faz saltos, resolve enigmas e luta contra inimigos\",\n",
        "    df_menor)\n",
        "print(resposta)"
      ],
      "metadata": {
        "colab": {
          "base_uri": "https://localhost:8080/"
        },
        "id": "_f5H2FohQ3B_",
        "outputId": "82720468-8bb7-4518-ac7d-b9848dc73b0f"
      },
      "execution_count": null,
      "outputs": [
        {
          "output_type": "stream",
          "name": "stdout",
          "text": [
            "Sim, o jogo \"Adventure_TheShapeshiftingDetective\" é descrito como um jogo estilo \"Her Story\", que também envolve resolver enigmas e tomar decisões. Embora não seja exatamente igual ao Prince of Persia, possui elementos de aventura e raciocínio semelhantes.\n"
          ]
        }
      ]
    },
    {
      "cell_type": "code",
      "source": [
        "resposta = perguntar(\"Existe algum jogo nas reviews parecido com o jogo prince of persia?\",\n",
        "    df_menor)\n",
        "print(resposta)"
      ],
      "metadata": {
        "colab": {
          "base_uri": "https://localhost:8080/"
        },
        "id": "CKtRsBnVRlB0",
        "outputId": "ccca461d-e6d5-4159-c4a2-33a3196da8d9"
      },
      "execution_count": null,
      "outputs": [
        {
          "output_type": "stream",
          "name": "stdout",
          "text": [
            "Não consegui encontrar uma resposta.\n"
          ]
        }
      ]
    },
    {
      "cell_type": "code",
      "source": [
        "montar_query(query=\"Existe algum jogo nas reviews parecido com o jogo prince of persia?\",\n",
        "             df=df_menor,\n",
        "             token_budget=16000)"
      ],
      "metadata": {
        "colab": {
          "base_uri": "https://localhost:8080/",
          "height": 178
        },
        "id": "x5mb1xUmRs_f",
        "outputId": "fe89b359-2310-49c4-b26a-a638b5ea2f06"
      },
      "execution_count": null,
      "outputs": [
        {
          "output_type": "execute_result",
          "data": {
            "text/plain": [
              "'\\n    Use o conteúdo abaixo com reviews de jogos para responder a pergunta a seguir. \\n    O conteúdo das reviews deve ser a sua única fonte para dar as respostas. \\n    Se você não conseguir encontrar a resposta no conteúdo, escreva \"Não consegui encontrar uma resposta.\"\\n    \\n\\nSeção com dados das reviews de jogos:\\n\"\"\"\\nAdventure_Republique recebeu a seguinte review: Um jogo para refletir.\\n\"\"\"\\n\\nSeção com dados das reviews de jogos:\\n\"\"\"\\nSimulation_DEEEERSimulator recebeu a seguinte review: Jogo de corno brabissimo\\n\"\"\"\\n\\nSeção com dados das reviews de jogos:\\n\"\"\"\\nIndie_QuestofDungeons recebeu a seguinte review: Este é aquele tipo de jogo com uma mecânica simples mas que faz você se divertir por horas.\\n\"\"\"\\n\\nSeção com dados das reviews de jogos:\\n\"\"\"\\nIndie_Incandescent recebeu a seguinte review: um jogo simples e divertido para pegar as conquistas\\n\"\"\"\\n\\nSeção com dados das reviews de jogos:\\n\"\"\"\\nStrategy_SidMeiersCivilizationIV recebeu a seguinte review: Este não é \"um jogo\", este é \"o jogo\"!!!\\n\"\"\"\\n\\nSeção com dados das reviews de jogos:\\n\"\"\"\\nRPG_Barony recebeu a seguinte review: jogo bem divertido\\n\"\"\"\\n\\nSeção com dados das reviews de jogos:\\n\"\"\"\\nFPS_Screencheat recebeu a seguinte review: Jogo casual e divertido pra jogar com os amigos\\n\"\"\"\\n\\nSeção com dados das reviews de jogos:\\n\"\"\"\\nRPG_AgarestGenerationsofWar recebeu a seguinte review: o jogo é legal e historia bem interessante...\\nunico ponto negativo sao as batalhas sao extremamente repetitivas\\n\"\"\"\\n\\nSeção com dados das reviews de jogos:\\n\"\"\"\\nAdventure_Raji recebeu a seguinte review: jogo de indiano fudido\\n\"\"\"\\n\\nSeção com dados das reviews de jogos:\\n\"\"\"\\nAction_Overstep recebeu a seguinte review: Isso sim Que é um jogo de parkour.\\n\"\"\"\\n\\\\Pergunta: Existe algum jogo nas reviews parecido com o jogo prince of persia?'"
            ],
            "application/vnd.google.colaboratory.intrinsic+json": {
              "type": "string"
            }
          },
          "metadata": {},
          "execution_count": 54
        }
      ]
    },
    {
      "cell_type": "code",
      "source": [
        "montar_query(query=\"Existe algum jogo nas reviews parecido com o jogo prince of persia? prince of persia é um jogo de aventura em terceira pessoa onde o personagem faz saltos, resolve enigmas e luta contra inimigos\",\n",
        "             df=df_menor,\n",
        "             token_budget=16000)"
      ],
      "metadata": {
        "colab": {
          "base_uri": "https://localhost:8080/",
          "height": 178
        },
        "id": "ShqBxlooR2_w",
        "outputId": "f2a61f88-c201-418e-fefa-30d2f767c7cc"
      },
      "execution_count": null,
      "outputs": [
        {
          "output_type": "execute_result",
          "data": {
            "text/plain": [
              "'\\n    Use o conteúdo abaixo com reviews de jogos para responder a pergunta a seguir. \\n    O conteúdo das reviews deve ser a sua única fonte para dar as respostas. \\n    Se você não conseguir encontrar a resposta no conteúdo, escreva \"Não consegui encontrar uma resposta.\"\\n    \\n\\nSeção com dados das reviews de jogos:\\n\"\"\"\\nAdventure_TombRumble recebeu a seguinte review: Um jogo bem divertido e bem desafiador para conseguir completar 1 mapa com vários jogadores diversos\\n\"\"\"\\n\\nSeção com dados das reviews de jogos:\\n\"\"\"\\nAdventure_ThereIsNoGame recebeu a seguinte review: Jogo divertidíssimo!\\n\\nA ideia de fazer um \"jogo sobre ser um jogo\" não é original, mas \"There is no Game\" tem um humor tão perfeito que faz dele um destaque dentro desse gênero.\\n\\nE como todos jogos desse tipo, quanto menos você souber sobre ele, melhor!\\n\"\"\"\\n\\nSeção com dados das reviews de jogos:\\n\"\"\"\\nIndie_QuestofDungeons recebeu a seguinte review: Este é aquele tipo de jogo com uma mecânica simples mas que faz você se divertir por horas.\\n\"\"\"\\n\\nSeção com dados das reviews de jogos:\\n\"\"\"\\nAction_PrinceofPersiaTheSandsoftime recebeu a seguinte review: Jogo de puzzle EE parkour, com pouca ação, e uma história satisfatória 7/10\\n\"\"\"\\n\\nSeção com dados das reviews de jogos:\\n\"\"\"\\nAdventure_TheShapeshiftingDetective recebeu a seguinte review: (Joguei apenas uma vez até o momento. Pesquisei e vi que ele é rejogável)\\n\\nBelo jogo. Super recomendo para quem gosta de jogos estilo \"Her Story\"\\nUm história que te prende e o desatencioso pode tomar decisões erradas\\n\"\"\"\\n\\nSeção com dados das reviews de jogos:\\n\"\"\"\\nAction_ThunderTierOne recebeu a seguinte review: Um  jogo que procura simular a movimentação coordenada da equipe visando realizar as missões pré-determinadas sob uma perspectiva bem divertida\\n\"\"\"\\n\\nSeção com dados das reviews de jogos:\\n\"\"\"\\nAdventure_Republique recebeu a seguinte review: Um jogo para refletir.\\n\"\"\"\\n\\nSeção com dados das reviews de jogos:\\n\"\"\"\\nIndie_WizardSlime recebeu a seguinte review: Um jogo simples, mas bem divertido; Quem procura algo desafiador acabou de achar.\\n\"\"\"\\n\\nSeção com dados das reviews de jogos:\\n\"\"\"\\nAdventure_InVerbisVirtus recebeu a seguinte review: Pra quem curte magia, e raciocínio o jogo é top demais... Ainda mais com esse diferencial de você poder utilizar a sua voz.\\n\\nPrós :\\nBoa Jogabilidade\\nReconhecimento de voz considerável\\n\\nContras:\\nJogo possui apenas 3 mapas com coletânea de fases\\nUm pouco caro \\nSingleplayer\\n\"\"\"\\n\\nSeção com dados das reviews de jogos:\\n\"\"\"\\nIndie_AnotherAdventure recebeu a seguinte review: É um jogo muito interessante, que explora as contradições no dia a dia de vários personagens diferentes.\\nA partir de uma abordagem original e interessante, \"Another Adventure\" consegue fazer uma grande crítica e reflexão para o jogador.\\n\"\"\"\\n\\\\Pergunta: Existe algum jogo nas reviews parecido com o jogo prince of persia? prince of persia é um jogo de aventura em terceira pessoa onde o personagem faz saltos, resolve enigmas e luta contra inimigos'"
            ],
            "application/vnd.google.colaboratory.intrinsic+json": {
              "type": "string"
            }
          },
          "metadata": {},
          "execution_count": 55
        }
      ]
    }
  ]
}